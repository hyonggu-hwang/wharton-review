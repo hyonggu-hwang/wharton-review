{
  "cells": [
    {
      "cell_type": "raw",
      "metadata": {},
      "source": [
        "---\n",
        "title: Key Functions\n",
        "---"
      ],
      "id": "d7b9b33e"
    },
    {
      "cell_type": "code",
      "metadata": {
        "setup": true
      },
      "source": [
        "#| echo: false\n",
        "import Pkg\n",
        "Pkg.activate(@__DIR__, io=devnull)"
      ],
      "id": "fad6dafb",
      "execution_count": null,
      "outputs": []
    },
    {
      "cell_type": "code",
      "metadata": {},
      "source": [
        "#| code-fold: false\n",
        "#| output: true"
      ],
      "id": "ec84ed00",
      "execution_count": null,
      "outputs": []
    },
    {
      "cell_type": "markdown",
      "metadata": {},
      "source": [
        "The goal of this section is to describe the core functions and document the way Toni organized her code. The functions can largely be divded into three categories. First, the *model solver* discretizes the state space, sets up the transition matrix, and solves the model. Second, the *simulation subroutines* simulate the model and collect statistics. Finally, the *estimation* prepares the data for estimation and runs the estimation routine.\n",
        "\n",
        "These are some set-ups that will be necessary for the code to run."
      ],
      "id": "47d7a983"
    },
    {
      "cell_type": "code",
      "metadata": {},
      "source": [
        "#| code-fold: false\n",
        "#| output: false\n",
        "\n",
        "# Think about which file to include this code in eventually.\n",
        "using Random, Distributions, LinearAlgebra, Plots, Statistics, Printf"
      ],
      "id": "8d824ced",
      "execution_count": null,
      "outputs": []
    },
    {
      "cell_type": "markdown",
      "metadata": {},
      "source": [
        "# 1. Model Solver\n",
        "The goal in this part is to solve the dynamic model via value function iteration (VFI). The code organization is slightly redundant and chaotic in my humble opinion, so I include an overview here. \n",
        "\n",
        "::: {.column-margin}\n",
        "Toni has a code script for almost every single function -- this is way too many files! It would be better to group them either into (1) fewer files containing multiple functions, or into (2) separate sub-folders containing individual functions. But to be fair, her readme file is very useful.\n",
        ":::\n",
        "\n",
        "The code file `valfun.jl` performs the VFI. \n",
        "\n",
        "A separate file called `collectfunctions.jl` calls the above `valfun.jl` and performs some plotting, interpolation, simulation, and moment generation. To see the entire list of relevant files, please unfold the following code block.\n"
      ],
      "id": "6d86f656"
    },
    {
      "cell_type": "code",
      "metadata": {},
      "source": [
        "#| code-fold: true\n",
        "#| eval: false\n",
        "\n",
        "# # ============ Stuff that goes into VFI ====================\n",
        "# include(\"makegrids.jl\")          # makes the grids\n",
        "# include(\"tauchen.jl\")            # makes the transition matrix\n",
        "# include(\"profit.jl\")             # makes the profit function\n",
        "# include(\"fillin.jl\")             # interpolates the value function. Inefficient. You should make the weights only once. \n",
        "# include(\"maxbellman.jl\")         # finds the maximum of the bellman equation\n",
        "# include(\"tinybellman.jl\")        # finds the maximum of the bellman equation, within limited bounbds\n",
        "# include(\"howard.jl\")             #  Howard's policy improvement algorithm\n",
        "# include(\"makepol.jl\")            #  makes the policy function from the index policy function\n",
        "# include(\"makeconst.jl\")          #  renormalized the profit function\n",
        "# include(\"ptrue.jl\")              #  sets the true parameter values\n",
        "# include(\"mew.jl\")                #  makes the stationary distribution. \n",
        "# include(\"inbetween.jl\")          #  makes interpolation weights and indices\n",
        "# include(\"extract_parameters.jl\") # little helper function to pull parameters out of a vector\n",
        "# include(\"update.jl\")             # updates the value function\n",
        "\n",
        "# # ============ VFI =========================================\n",
        "# if settings.fast == true\n",
        "#     include(\"valfun.jl\")          # The fast version\n",
        "# else\n",
        "#     include(\"valfunslow.jl\")      # The slow version\n",
        "# end\n",
        "# # ============ Plotting and simulation =====================\n",
        "# include(\"plotstuff.jl\")    # Self-explanatory\n",
        "# include(\"printstuff.jl\")   # Self-explanatory\n",
        "# include(\"simmodel.jl\")     # Simulates the model. \n",
        "# include(\"interpol.jl\")     # Interpolates the value and policy functions\n",
        "\n",
        "# # ============Making moments ===============================\n",
        "# include(\"momentgen.jl\");   # wrapper\n",
        "# include(\"makemoments.jl\"); # Self-explanatory"
      ],
      "id": "4c5c889d",
      "execution_count": null,
      "outputs": []
    },
    {
      "cell_type": "markdown",
      "metadata": {},
      "source": [
        "The values for the compuational parameters are *separately* defined in `invest_mod.jl`. Using these specific values, Toni then runs all of these files, in another file called `evalfun.jl`. As the name implies, this is where the actual function evaluation is done. This produces the simulated moments for a single parameter combination $(\\alpha, \\delta)$ and the associated comparative statistics outputs.\n",
        "\n",
        "## Discretization\n",
        "The relevant code files for this step are `tauchen.jl` and `makegrids.jl`. \n",
        "\n",
        "Recall that the process that governs the evolution of shock $z$ is given as:\n",
        "$$\n",
        "    \\ln(z') = \\rho \\ln(z) + \\sigma \\varepsilon', \\quad \\varepsilon' \\sim \\mathcal{N}(0, 1)\n",
        "$$\n",
        "\n",
        "Using the Tauchen method, we can approximate this continuous state space with a discrete Markov chain. The following function implements the Tauchen method to generate a grid of $z$ values and the corresponding transition probabilities. The input parameters for this function are: the autocorrelation `ρ = 0.7`, intercept of the AR1 `μ = 0`, standard deviation of the residual `σ = 0.2`, number of standard deviations `q = 3`, and the number of grid points `N_z = 41`.\n"
      ],
      "id": "6016bc17"
    },
    {
      "cell_type": "code",
      "metadata": {},
      "source": [
        "#| code-fold: true\n",
        "#| output: false\n",
        "function tauchen(mew::Float64, sigma::Float64, rho::Float64, znum::Int, q::Float64)\n",
        "\n",
        "    zstar = mew / (1.0 - rho) #expected value of z\n",
        "    sigmaz = sigma / sqrt(1.0 - rho^2) #stddev of z\n",
        "\n",
        "    z = zstar .+ collect(range(-q * sigmaz, stop=q * sigmaz, length=znum))\n",
        "\n",
        "\n",
        "    trans = zeros(znum, znum)\n",
        "    w = (z[2] - z[1])  #Note that all the points are equidistant by construction.\n",
        "    for iz in 1:znum\n",
        "        for izz in 1:znum\n",
        "            binhi = (z[izz] - rho * z[iz] + w / 2.0) / sigma\n",
        "            binlo = (z[izz] - rho * z[iz] - w / 2.0) / sigma\n",
        "            if izz == 1\n",
        "                trans[iz, izz] = cdf(Normal(), binhi)\n",
        "            elseif izz == znum\n",
        "                trans[iz, izz] = 1.0 - cdf(Normal(), binlo)\n",
        "            else\n",
        "                trans[iz, izz] = cdf(Normal(), binhi) - cdf(Normal(), binlo)\n",
        "            end\n",
        "        end\n",
        "    end\n",
        "\n",
        "    return z::Vector{Float64}, trans::Matrix{Float64}\n",
        "end"
      ],
      "id": "e0ee5d65",
      "execution_count": null,
      "outputs": []
    },
    {
      "cell_type": "markdown",
      "metadata": {},
      "source": [
        "The output is a vector of $z$ values and a matrix of transition probabilities. Throughout the code, we refer to them as `z_grid` and `trans`, respectively."
      ],
      "id": "3bf192ce"
    },
    {
      "cell_type": "code",
      "metadata": {},
      "source": [
        "#| code-fold: true\n",
        "#| output: true\n",
        "\n",
        "# Tauchen parameters\n",
        "N_z = 41   # shock grid number\n",
        "σ = 0.20   # SD of error term\n",
        "μ = 0.0    # AR1 intercept\n",
        "ρ = 0.70   # AR1 coefficient\n",
        "q = 3.0    # 3 standard deviations for the z\n",
        "\n",
        "z_grid, trans = tauchen(μ, σ, ρ, N_z, q);\n",
        "z_grid = exp.(z_grid);"
      ],
      "id": "d2060a73",
      "execution_count": null,
      "outputs": []
    },
    {
      "cell_type": "markdown",
      "metadata": {},
      "source": [
        "We discretize the $z$ shock to 41 points."
      ],
      "id": "02296ad2"
    },
    {
      "cell_type": "code",
      "metadata": {},
      "source": [
        "#| code-fold: false\n",
        "#| output: true\n",
        "print(z_grid)"
      ],
      "id": "b3211159",
      "execution_count": null,
      "outputs": []
    },
    {
      "cell_type": "markdown",
      "metadata": {},
      "source": [
        "The transition matrix is a 41 x 41 matrix, where element $(i,j)$ represents the probability of moving from state $z_i$ to state $z_j$."
      ],
      "id": "a29367e1"
    },
    {
      "cell_type": "code",
      "metadata": {},
      "source": [
        "#| code-fold: false\n",
        "#| output: true\n",
        "size(trans)"
      ],
      "id": "f216e02d",
      "execution_count": null,
      "outputs": []
    },
    {
      "cell_type": "markdown",
      "metadata": {},
      "source": [
        "Next, we discretize the capital stock space, so that later on, our policy function contains integers indexing different $K$ values. The upper and lower bounds on $K$ are obtained by plugging in the minimum and maximum values of $z$ into the steady state equation. The Euler equation is given as:\n",
        "$$ K = (\\frac{r+δ}{αz})^{1-α}$$\n",
        "which provides solutions to the equation that sets the marginal product of capital equal to the user cost of capital. \n",
        "\n",
        "We discretize $K$ into 501 points. Here is an example from the ``valfunclunky`` code script, where the risk free rate rate is 4\\%, capital depreciation rate `δ = 0.15`, curvature parameter `α = 0.70`, and equity adjustment cost `λ = 0.1`. \n"
      ],
      "id": "c0a689d0"
    },
    {
      "cell_type": "code",
      "metadata": {},
      "source": [
        "#| code-fold: true\n",
        "#| output: true\n",
        "\n",
        "# Dimensions\n",
        "N_k = 501\n",
        "N_k_pol = 501\n",
        "\n",
        "# Risk free rate and discount factor\n",
        "rf = 0.04\n",
        "β = 1.0 / (1.0 + rf)\n",
        "\n",
        "# Parameters\n",
        "δ = 0.15   # capital depreciation\n",
        "α = 0.70   # curvature parameter\n",
        "λ = 0.1    # equity adjustment cost\n",
        "\n",
        "##### Discretize capital \n",
        "zmax = maximum(z_grid)\n",
        "zmin = minimum(z_grid)\n",
        "skale = 0.2 # to make steady state capital stock reasonable\n",
        "\n",
        "# Euler: plug in min & max of z to get bounds on k\n",
        "kminstar = ((rf + δ) / (α * skale * zmin))^(1.0 / (α - 1.0))\n",
        "kminstar = log(kminstar)\n",
        "\n",
        "kmaxstar = ((rf + δ) / (α * skale * zmax))^(1.0 / (α - 1.0))\n",
        "kmaxstar = log(kmaxstar)\n",
        "\n",
        "# Create k grid (and take exponents back)\n",
        "k_grid = collect(range(kminstar, stop=kmaxstar, length=N_k))\n",
        "k_grid = exp.(k_grid)\n",
        "\n",
        "# Create k' grid (policy grid)\n",
        "k_pol_grid = collect(range(kminstar, stop=kmaxstar, length=N_k_pol))\n",
        "k_pol_grid = exp.(k_pol_grid);\n",
        "\n",
        "println(\"Length of the policy grid is \", length(k_pol_grid))"
      ],
      "id": "6754d3eb",
      "execution_count": null,
      "outputs": []
    },
    {
      "cell_type": "markdown",
      "metadata": {},
      "source": [
        "## Profit Function\n",
        "Recall that the firm's objective is to maximize the present value of cash flows to shareholders. For convenience, let's just call this the profit function. As already discussed in the **Model** section, the profit function $E(\\cdot)$ is defined piecewise according to the sign of internal cash flows $E*(\\cdot)$:\n",
        "\n",
        "$$\n",
        "\\begin{align*}\n",
        "    E(K, K', z) = \n",
        "    \\begin{cases}\n",
        "    E^* & \\text{if } E^* \\geq 0 \\\\\n",
        "    E^*(1 + \\lambda) & \\text{if } E^* < 0\n",
        "    \\end{cases}\n",
        "\\end{align*}\n",
        "$$\n",
        "where\n",
        "$$\n",
        "    E^*(K, K', z) = zK^{\\alpha} - (K' - (1 - \\delta)K).\n",
        "$$\n",
        "\n",
        "The profit function has three input parameters: current capital stock `K`, next period's capital stock `K'`, and profitability shock `z`. Since these variables have all been discretized, we can fully capture the profit function in a 3D array. The following code fills in this array with the profit function values for different `(z, K, K')` combinations.\n"
      ],
      "id": "6d601382"
    },
    {
      "cell_type": "code",
      "metadata": {},
      "source": [
        "#| code-fold: true\n",
        "#| output: true\n",
        "# Initialize profit array\n",
        "profit = zeros(N_z, N_k, N_k_pol)\n",
        "\n",
        "# Loop over N_k_pol = 501 values of K' ...\n",
        "Threads.@threads for ik_pol in 1:N_k_pol\n",
        "\n",
        "    # ... and N_k = 501 values of K\n",
        "    for ik in 1:N_k\n",
        "\n",
        "        # ... and N_z = 41 values of z\n",
        "        for iz in 1:N_z\n",
        "\n",
        "            # Profit = internal cash flow if positive\n",
        "            profit[iz, ik, ik_pol] =\n",
        "                skale * z_grid[iz] * k_grid[ik]^α -\n",
        "                (k_pol_grid[ik_pol] - (1.0 - δ) * k_grid[ik])\n",
        "\n",
        "            # Profit = financing costs in addition if negative    \n",
        "            if profit[iz, ik, ik_pol] < 0.0\n",
        "                profit[iz, ik, ik_pol] =\n",
        "                    profit[iz, ik, ik_pol] * (1.0 + λ)\n",
        "            end\n",
        "        end\n",
        "    end\n",
        "end\n",
        "\n",
        "println(\"Size of the profit array is \", size(profit))"
      ],
      "id": "afa9a3d6",
      "execution_count": null,
      "outputs": []
    },
    {
      "cell_type": "markdown",
      "metadata": {},
      "source": [
        "We have successfully computed the profit function.\n",
        "\n",
        "::: {.column-margin}\n",
        "A nested parallel loop likely causes too much overhead, so I only parallelize the outer loop here.\n",
        ":::\n",
        "\n",
        "## Bellman Equation\n",
        "Next, we formulate the Bellman equation and numerically solve the maximization problem. The key relevant files are `valfun.jl` and `maxbellman.jl`, and there are a few more files that implement more advanced computational methods:\n",
        "\n",
        "- `inbetween.jl`: performs interpolation in a set-up where policy grid is finer than the capital grid (i.e. `N_k_pol` > `N_k`) \n",
        "- `howard.jl`: implements Howard's policy improvement algorithm, which is a more efficient way to solve the Bellman equation in earlier iterations of the VFI and when the policy function has already converged\n",
        "- `update.jl`: implements McQueen-Porteus algorithm to update the policy and value functions. \n",
        "\n",
        "Following the notation from summer school notes, we can write the Bellman equation as:\n",
        "\n",
        "::: {.column-margin}\n",
        "In the summer school lecture notes, $E$ corresponds to $R$, $K$ to $s$, and $z$ to $x$.\n",
        ":::\n",
        "$$ V(K,z) = \\max_{K' \\in \\Gamma(K,z)} \\left[ E(K,z,K') + \\beta \\, \\mathbb{E}_{z'|z} \\, V(K',z') \\right] $$\n",
        "\n",
        "\n",
        "We already computed $R(\\cdot)$ in the previous step, so let's compute the expectation term. We take the expectation over **all** the next-period states $z'$, for **each** combination of the current state $z$ and the current capital stock $K$. This gives us the next-period value function, which provides a mapping from **all** possible combinations of $z'$ and $K'$ to the .\n",
        "\n",
        "The value function is a 2D array of size `N_z x N_k`, where each element corresponds to the value of being in state $(z, K)$.\n",
        "\n",
        "The key here is to have the dimensions right: the value function is a 2D array of size `N_z x N_k`, and the transition matrix is a 2D array of size `N_z x N_z`. The following code implements the Bellman equation."
      ],
      "id": "24de9b7d"
    },
    {
      "cell_type": "code",
      "metadata": {},
      "source": [
        "#| code-fold: true\n",
        "#| output: true\n",
        "# Bellman equation\n"
      ],
      "id": "be6ffdcc",
      "execution_count": null,
      "outputs": []
    },
    {
      "cell_type": "markdown",
      "metadata": {},
      "source": [
        "## Value Function Iteration\n",
        "The core of the VFI is to keep updating the value function until it converges to a numerical maximum. To do so, we keep iterating on the Bellman equation until the maximum (absolute) difference between the *current* and *previous* value function is less than a given tolerance level. So, at each iteration, we are really comparing the best value function we have found so far, against the next *candidate* maximum.\n",
        "\n",
        "\n",
        "# 2. Simulation\n",
        "\n",
        "# 3. Estimation"
      ],
      "id": "537a5935"
    }
  ],
  "metadata": {
    "kernelspec": {
      "name": "julia-1.11-_notebook_-1.11-1.11",
      "language": "julia",
      "display_name": "julia-1.11-_notebook_-1.11 1.11.6"
    }
  },
  "nbformat": 4,
  "nbformat_minor": 5
}